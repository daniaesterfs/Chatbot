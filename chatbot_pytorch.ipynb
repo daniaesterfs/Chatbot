{
  "nbformat": 4,
  "nbformat_minor": 0,
  "metadata": {
    "colab": {
      "name": "chatbot_pytorch.ipynb",
      "provenance": [],
      "collapsed_sections": [],
      "authorship_tag": "ABX9TyMwvmKr8vruAsOzKt0wG/8t",
      "include_colab_link": true
    },
    "kernelspec": {
      "name": "python3",
      "display_name": "Python 3"
    }
  },
  "cells": [
    {
      "cell_type": "markdown",
      "metadata": {
        "id": "view-in-github",
        "colab_type": "text"
      },
      "source": [
        "<a href=\"https://colab.research.google.com/github/daniaesterfs/Chatbot/blob/master/chatbot_pytorch.ipynb\" target=\"_parent\"><img src=\"https://colab.research.google.com/assets/colab-badge.svg\" alt=\"Open In Colab\"/></a>"
      ]
    },
    {
      "cell_type": "code",
      "metadata": {
        "id": "vCzrQpVtAge4",
        "colab_type": "code",
        "colab": {
          "base_uri": "https://localhost:8080/",
          "height": 68
        },
        "outputId": "466f4a84-56bd-4212-e724-1817b65bc918"
      },
      "source": [
        "pip install torch"
      ],
      "execution_count": 1,
      "outputs": [
        {
          "output_type": "stream",
          "text": [
            "Requirement already satisfied: torch in /usr/local/lib/python3.6/dist-packages (1.6.0+cu101)\n",
            "Requirement already satisfied: numpy in /usr/local/lib/python3.6/dist-packages (from torch) (1.18.5)\n",
            "Requirement already satisfied: future in /usr/local/lib/python3.6/dist-packages (from torch) (0.16.0)\n"
          ],
          "name": "stdout"
        }
      ]
    },
    {
      "cell_type": "markdown",
      "metadata": {
        "id": "zKJxiz9jA6rG",
        "colab_type": "text"
      },
      "source": [
        "Main.py"
      ]
    },
    {
      "cell_type": "code",
      "metadata": {
        "id": "CWCkJcAOBB7O",
        "colab_type": "code",
        "colab": {}
      },
      "source": [
        "import nltk\n",
        "from nltk.stem.porter import PorterStemmer\n",
        "import numpy as np\n",
        "\n",
        "stemmer = PorterStemmer()\n",
        "\n",
        "def tokenize(sentence):\n",
        "    return nltk.word_tokenize(sentence)\n",
        "\n",
        "def stemming(word):\n",
        "    return stemmer.stem(word.lower())\n",
        "\n",
        "def bag_of_words(tokenize_sentence, all_words):\n",
        "    tokenize_sentence = [stemming(w) for w in tokenize_sentence]\n",
        "\n",
        "    bag = np.zeros(len(all_words), dtype = np.float32)\n",
        "    for idx, w in enumerate(all_words):\n",
        "        if w in tokenize_sentence:\n",
        "            bag[idx] = 1.0\n",
        "\n",
        "    return bag\n",
        "\n",
        "# sentence = [\"Hello\", \"How\", \"are\", \"you\"] \n",
        "# words = [\"hi\", \"hello\", \"I\", \"see\", \"you\"]\n",
        "# bag = bag_of_words(sentence, words)\n",
        "# print(bag)\n",
        "\n",
        "# words = [\"Organizing\", \"organizes\", \"organize\"]\n",
        "# stemmed_words = [stemming(w) for w in words]\n",
        "# print(stemmed_words)\n",
        "\n"
      ],
      "execution_count": 2,
      "outputs": []
    },
    {
      "cell_type": "markdown",
      "metadata": {
        "id": "W54DHmYcBGC6",
        "colab_type": "text"
      },
      "source": [
        "Model.py"
      ]
    },
    {
      "cell_type": "code",
      "metadata": {
        "id": "8uHIUdi8BI38",
        "colab_type": "code",
        "colab": {}
      },
      "source": [
        "import torch\n",
        "import torch.nn as nn\n",
        "\n",
        "class neuralNetwork(nn.Module):\n",
        "    def __init__(self, input_size, hidden_size, num_classes):\n",
        "        super(neuralNetwork, self).__init__()\n",
        "        self.l1 = nn.Linear(input_size, hidden_size)\n",
        "        self.l2 = nn.Linear(hidden_size, hidden_size)\n",
        "        self.l3 = nn.Linear(hidden_size, num_classes)\n",
        "        self.relu = nn.ReLU()\n",
        "\n",
        "    def forward(self, x):\n",
        "        out = self.l1(x)\n",
        "        out = self.relu(out)\n",
        "        out = self.l2(out)\n",
        "        out = self.relu(out)\n",
        "        out = self.l3(out)\n",
        "\n",
        "        return out"
      ],
      "execution_count": 3,
      "outputs": []
    },
    {
      "cell_type": "markdown",
      "metadata": {
        "id": "MKNChXCHBP2e",
        "colab_type": "text"
      },
      "source": [
        "TRAIN.PY"
      ]
    },
    {
      "cell_type": "code",
      "metadata": {
        "id": "I6LtqfjhONpL",
        "colab_type": "code",
        "colab": {
          "base_uri": "https://localhost:8080/",
          "height": 238
        },
        "outputId": "b16f6e58-429b-441e-ad23-8d5619c7d363"
      },
      "source": [
        "import numpy as np\n",
        "import random\n",
        "import json\n",
        "\n",
        "import torch\n",
        "import torch.nn as nn\n",
        "from torch.utils.data import Dataset, DataLoader\n",
        "\n",
        "# from nltk_utils import bag_of_words, tokenize, stem\n",
        "# from model import NeuralNet\n",
        "\n",
        "with open('intents.json', 'r') as f:\n",
        "    intents = json.load(f)\n",
        "\n",
        "all_words = []\n",
        "tags = []\n",
        "xy = []\n",
        "# loop through each sentence in our intents patterns\n",
        "for intent in intents['intents']:\n",
        "    tag = intent['tag']\n",
        "    # add to tag list\n",
        "    tags.append(tag)\n",
        "    for pattern in intent['patterns']:\n",
        "        # tokenize each word in the sentence\n",
        "        w = tokenize(pattern)\n",
        "        # add to our words list\n",
        "        all_words.extend(w)\n",
        "        # add to xy pair\n",
        "        xy.append((w, tag))\n",
        "\n",
        "# stem and lower each word\n",
        "ignore_words = ['?', '.', '!']\n",
        "all_words = [stemming(w) for w in all_words if w not in ignore_words]\n",
        "# remove duplicates and sort\n",
        "all_words = sorted(set(all_words))\n",
        "tags = sorted(set(tags))\n",
        "\n",
        "# print(len(xy), \"patterns\")\n",
        "# print(len(tags), \"tags:\", tags)\n",
        "# print(len(all_words), \"unique stemmed words:\", all_words)\n",
        "\n",
        "# create training data\n",
        "X_train = []\n",
        "y_train = []\n",
        "for (pattern_sentence, tag) in xy:\n",
        "    # X: bag of words for each pattern_sentence\n",
        "    bag = bag_of_words(pattern_sentence, all_words)\n",
        "    X_train.append(bag)\n",
        "    # y: PyTorch CrossEntropyLoss needs only class labels, not one-hot\n",
        "    label = tags.index(tag)\n",
        "    y_train.append(label)\n",
        "\n",
        "X_train = np.array(X_train)\n",
        "y_train = np.array(y_train)\n",
        "\n",
        "# Hyper-parameters \n",
        "num_epochs = 1000\n",
        "batch_size = 8\n",
        "learning_rate = 0.001\n",
        "input_size = len(X_train[0])\n",
        "hidden_size = 8\n",
        "output_size = len(tags)\n",
        "print(input_size, output_size)\n",
        "\n",
        "class ChatDataset(Dataset):\n",
        "\n",
        "    def __init__(self):\n",
        "        self.n_samples = len(X_train)\n",
        "        self.x_data = X_train\n",
        "        self.y_data = y_train\n",
        "\n",
        "    # support indexing such that dataset[i] can be used to get i-th sample\n",
        "    def __getitem__(self, index):\n",
        "        return self.x_data[index], self.y_data[index]\n",
        "\n",
        "    # we can call len(dataset) to return the size\n",
        "    def __len__(self):\n",
        "      return self.n_samples\n",
        "\n",
        "dataset = ChatDataset()\n",
        "train_loader = DataLoader(dataset=dataset,\n",
        "                          batch_size=batch_size,\n",
        "                          shuffle=True,\n",
        "                          num_workers=2)\n",
        "\n",
        "device = torch.device('cuda' if torch.cuda.is_available() else 'cpu')\n",
        "\n",
        "model = neuralNetwork(input_size, hidden_size, output_size).to(device)\n",
        "\n",
        "# Loss and optimizer\n",
        "criterion = nn.CrossEntropyLoss()\n",
        "optimizer = torch.optim.Adam(model.parameters(), lr=learning_rate)\n",
        "\n",
        "# Train the model\n",
        "for epoch in range(num_epochs):\n",
        "    for (words, labels) in train_loader:\n",
        "        words = words.to(device)\n",
        "        labels = labels.to(device)\n",
        "        \n",
        "        # Forward pass\n",
        "        outputs = model(words)\n",
        "        # if y would be one-hot, we must apply\n",
        "        # labels = torch.max(labels, 1)[1]\n",
        "        loss = criterion(outputs, labels)\n",
        "        \n",
        "        # Backward and optimize\n",
        "        optimizer.zero_grad()\n",
        "        loss.backward()\n",
        "        optimizer.step()\n",
        "        \n",
        "    if (epoch+1) % 100 == 0:\n",
        "        print (f'Epoch [{epoch+1}/{num_epochs}], Loss: {loss.item():.4f}')\n",
        "\n",
        "\n",
        "print(f'final loss: {loss.item():.4f}')\n",
        "\n",
        "\n",
        "data = {\n",
        "    \"model_state\": model.state_dict(),\n",
        "    \"input_size\": input_size,\n",
        "    \"output_size\": output_size,\n",
        "    \"hidden_size\": hidden_size,\n",
        "    \"all_words\": all_words,\n",
        "    \"tags\" : tags\n",
        "}\n",
        "\n",
        "FILE = \"data.pth\"\n",
        "torch.save(data, FILE)\n",
        "\n",
        "print(f'Training complete with data saved in {FILE}')"
      ],
      "execution_count": 6,
      "outputs": [
        {
          "output_type": "stream",
          "text": [
            "33 4\n",
            "Epoch [100/1000], Loss: 0.6554\n",
            "Epoch [200/1000], Loss: 0.1512\n",
            "Epoch [300/1000], Loss: 0.0222\n",
            "Epoch [400/1000], Loss: 0.0042\n",
            "Epoch [500/1000], Loss: 0.0052\n",
            "Epoch [600/1000], Loss: 0.0018\n",
            "Epoch [700/1000], Loss: 0.0021\n",
            "Epoch [800/1000], Loss: 0.0020\n",
            "Epoch [900/1000], Loss: 0.0007\n",
            "Epoch [1000/1000], Loss: 0.0009\n",
            "final loss: 0.0009\n",
            "Training complete with data saved in data.pth\n"
          ],
          "name": "stdout"
        }
      ]
    },
    {
      "cell_type": "code",
      "metadata": {
        "id": "WQSurTP2y2a6",
        "colab_type": "code",
        "colab": {}
      },
      "source": [
        "# Load model\n",
        "def load_model(input_model):\n",
        "  with open('intents.json', 'r') as f:\n",
        "    intents = json.load(f)\n",
        "\n",
        "  FILE = \"data.pth\"\n",
        "  data = torch.load(FILE)\n",
        "\n",
        "  input_size = data[\"input_size\"]\n",
        "  hidden_size = data[\"hidden_size\"]\n",
        "  output_size = data[\"output_size\"]\n",
        "  all_words = data[\"all_words\"]\n",
        "  tags = data[\"tags\"]\n",
        "  model_state = data[\"model_state\"]\n",
        "\n",
        "  model = neuralNetwork(input_size, hidden_size, output_size).to(device)\n",
        "  model.load_state_dict(model_state)\n",
        "  model.eval()\n",
        "\n",
        "  return model"
      ],
      "execution_count": 7,
      "outputs": []
    },
    {
      "cell_type": "code",
      "metadata": {
        "id": "b3KNurLGUjRb",
        "colab_type": "code",
        "colab": {
          "base_uri": "https://localhost:8080/",
          "height": 292
        },
        "outputId": "c982dc34-3d35-4830-d61c-811767d64267"
      },
      "source": [
        "!pip install flask-ngrok"
      ],
      "execution_count": 10,
      "outputs": [
        {
          "output_type": "stream",
          "text": [
            "Collecting flask-ngrok\n",
            "  Downloading https://files.pythonhosted.org/packages/af/6c/f54cb686ad1129e27d125d182f90f52b32f284e6c8df58c1bae54fa1adbc/flask_ngrok-0.0.25-py3-none-any.whl\n",
            "Requirement already satisfied: Flask>=0.8 in /usr/local/lib/python3.6/dist-packages (from flask-ngrok) (1.1.2)\n",
            "Requirement already satisfied: requests in /usr/local/lib/python3.6/dist-packages (from flask-ngrok) (2.23.0)\n",
            "Requirement already satisfied: itsdangerous>=0.24 in /usr/local/lib/python3.6/dist-packages (from Flask>=0.8->flask-ngrok) (1.1.0)\n",
            "Requirement already satisfied: Werkzeug>=0.15 in /usr/local/lib/python3.6/dist-packages (from Flask>=0.8->flask-ngrok) (1.0.1)\n",
            "Requirement already satisfied: Jinja2>=2.10.1 in /usr/local/lib/python3.6/dist-packages (from Flask>=0.8->flask-ngrok) (2.11.2)\n",
            "Requirement already satisfied: click>=5.1 in /usr/local/lib/python3.6/dist-packages (from Flask>=0.8->flask-ngrok) (7.1.2)\n",
            "Requirement already satisfied: idna<3,>=2.5 in /usr/local/lib/python3.6/dist-packages (from requests->flask-ngrok) (2.10)\n",
            "Requirement already satisfied: urllib3!=1.25.0,!=1.25.1,<1.26,>=1.21.1 in /usr/local/lib/python3.6/dist-packages (from requests->flask-ngrok) (1.24.3)\n",
            "Requirement already satisfied: certifi>=2017.4.17 in /usr/local/lib/python3.6/dist-packages (from requests->flask-ngrok) (2020.6.20)\n",
            "Requirement already satisfied: chardet<4,>=3.0.2 in /usr/local/lib/python3.6/dist-packages (from requests->flask-ngrok) (3.0.4)\n",
            "Requirement already satisfied: MarkupSafe>=0.23 in /usr/local/lib/python3.6/dist-packages (from Jinja2>=2.10.1->Flask>=0.8->flask-ngrok) (1.1.1)\n",
            "Installing collected packages: flask-ngrok\n",
            "Successfully installed flask-ngrok-0.0.25\n"
          ],
          "name": "stdout"
        }
      ]
    },
    {
      "cell_type": "markdown",
      "metadata": {
        "id": "Ylq-uQdUiUBK",
        "colab_type": "text"
      },
      "source": [
        "**API**"
      ]
    },
    {
      "cell_type": "code",
      "metadata": {
        "id": "91zq5HNwUp3z",
        "colab_type": "code",
        "colab": {}
      },
      "source": [
        "from flask_ngrok import run_with_ngrok\n",
        "from flask import Flask"
      ],
      "execution_count": 16,
      "outputs": []
    },
    {
      "cell_type": "code",
      "metadata": {
        "id": "P_Ab4bZTU0Zf",
        "colab_type": "code",
        "colab": {}
      },
      "source": [
        "app = Flask(__name__)\n",
        "run_with_ngrok(app)"
      ],
      "execution_count": 17,
      "outputs": []
    },
    {
      "cell_type": "code",
      "metadata": {
        "id": "fhotZk12AhIX",
        "colab_type": "code",
        "colab": {}
      },
      "source": [
        "import random\n",
        "import json\n",
        "\n",
        "@app.route('/chatbot', methods = [\"POST\"])\n",
        "def get_chatbot():\n",
        "  \n",
        "  # device = torch.device('cuda' if torch.cuda.is_available() else 'cpu')\n",
        "\n",
        "  # with open('intents.json', 'r') as f:\n",
        "  #   intents = json.load(f)\n",
        "\n",
        "  # FILE = \"data.pth\"\n",
        "  # data = torch.load(FILE)\n",
        "\n",
        "  # input_size = data[\"input_size\"]\n",
        "  # hidden_size = data[\"hidden_size\"]\n",
        "  # output_size = data[\"output_size\"]\n",
        "  # all_words = data[\"all_words\"]\n",
        "  # tags = data[\"tags\"]\n",
        "  # model_state = data[\"model_state\"]\n",
        "\n",
        "  # model = neuralNetwork(input_size, hidden_size, output_size).to(device)\n",
        "  # model.load_state_dict(model_state)\n",
        "  # model.eval()\n",
        "\n",
        "  # bot_name = \"Sinarmas\"\n",
        "  # print(\"Let's chat! type 'quit' to exit\")\n",
        "  # while True:\n",
        "  #   sentence = input('You: ')\n",
        "  #   if sentence == \"quit\":\n",
        "  #     break\n",
        "    user_input = request.json.get('message')\n",
        "    sentence = tokenize(user_input)\n",
        "    X = bag_of_words(sentence, all_words)\n",
        "    X = X.reshape(1, X.shape[0])\n",
        "    X = torch.from_numpy(X)\n",
        "\n",
        "    output = load_model(X)\n",
        "    _, predicted = torch.max(output, dim=1)\n",
        "    tag = tags[predicted.item()]\n",
        "\n",
        "    probs  = torch.softmax(output, dim=1)\n",
        "    prob = probs[0][predicted.item()]\n",
        "\n",
        "    if prob.item() > 0.75:\n",
        "      for intent in intents[\"intents\"]:\n",
        "        if tag == intent[\"tag\"]:\n",
        "          print(random.choice(intent['responses']))\n",
        "    else:\n",
        "      print(\"I do not understand...\")"
      ],
      "execution_count": 18,
      "outputs": []
    },
    {
      "cell_type": "code",
      "metadata": {
        "id": "_CnYHWGmWBbo",
        "colab_type": "code",
        "colab": {
          "base_uri": "https://localhost:8080/",
          "height": 153
        },
        "outputId": "82423627-5ef8-49d8-f524-12ebe9dfb58f"
      },
      "source": [
        "app.run()"
      ],
      "execution_count": 19,
      "outputs": [
        {
          "output_type": "stream",
          "text": [
            " * Serving Flask app \"__main__\" (lazy loading)\n",
            " * Environment: production\n",
            "\u001b[31m   WARNING: This is a development server. Do not use it in a production deployment.\u001b[0m\n",
            "\u001b[2m   Use a production WSGI server instead.\u001b[0m\n",
            " * Debug mode: off\n"
          ],
          "name": "stdout"
        },
        {
          "output_type": "stream",
          "text": [
            " * Running on http://127.0.0.1:5000/ (Press CTRL+C to quit)\n"
          ],
          "name": "stderr"
        },
        {
          "output_type": "stream",
          "text": [
            " * Running on http://6decdfc8fa66.ngrok.io\n",
            " * Traffic stats available on http://127.0.0.1:4040\n"
          ],
          "name": "stdout"
        }
      ]
    },
    {
      "cell_type": "markdown",
      "metadata": {
        "id": "YIsDhMx2CXyQ",
        "colab_type": "text"
      },
      "source": [
        "CHAT.PY"
      ]
    },
    {
      "cell_type": "code",
      "metadata": {
        "id": "SUAUbZyWCbCy",
        "colab_type": "code",
        "colab": {
          "base_uri": "https://localhost:8080/",
          "height": 153
        },
        "outputId": "ffc3f694-3d5f-4f60-db47-b6cbcdcf975f"
      },
      "source": [
        "import random\n",
        "import json\n",
        "\n",
        "device = torch.device('cuda' if torch.cuda.is_available() else 'cpu')\n",
        "\n",
        "with open('intents.json', 'r') as f:\n",
        "  intents = json.load(f)\n",
        "\n",
        "FILE = \"data.pth\"\n",
        "data = torch.load(FILE)\n",
        "\n",
        "input_size = data[\"input_size\"]\n",
        "hidden_size = data[\"hidden_size\"]\n",
        "output_size = data[\"output_size\"]\n",
        "all_words = data[\"all_words\"]\n",
        "tags = data[\"tags\"]\n",
        "model_state = data[\"model_state\"]\n",
        "\n",
        "model = neuralNetwork(input_size, hidden_size, output_size).to(device)\n",
        "model.load_state_dict(model_state)\n",
        "model.eval()\n",
        "\n",
        "# bot_name = \"Sinarmas\"\n",
        "print(\"Let's chat! type 'quit' to exit\")\n",
        "while True:\n",
        "  sentence = input()\n",
        "  if sentence == \"quit\":\n",
        "    break\n",
        "\n",
        "  sentence = tokenize(sentence)\n",
        "  X = bag_of_words(sentence, all_words)\n",
        "  X = X.reshape(1, X.shape[0])\n",
        "  X = torch.from_numpy(X)\n",
        "\n",
        "  output = model(X)\n",
        "  _, predicted = torch.max(output, dim=1)\n",
        "  tag = tags[predicted.item()]\n",
        "\n",
        "  probs  = torch.softmax(output, dim=1)\n",
        "  prob = probs[0][predicted.item()]\n",
        "\n",
        "  if prob.item() > 0.75:\n",
        "    for intent in intents[\"intents\"]:\n",
        "      if tag == intent[\"tag\"]:\n",
        "        print(f\"{bot_name}: {random.choice(intent['responses'])}\")\n",
        "  else:\n",
        "    print(f\"{bot_name}: I do not understand...\")\n",
        "\n"
      ],
      "execution_count": 9,
      "outputs": [
        {
          "output_type": "stream",
          "text": [
            "Let's chat! type 'quit' to exit\n",
            "hi\n",
            "Good to see you again!\n",
            "how to transfer money\n",
            "You can transfer money by pressing the Send button\n",
            "thankyou\n",
            "okay\n",
            "quit\n"
          ],
          "name": "stdout"
        }
      ]
    },
    {
      "cell_type": "markdown",
      "metadata": {
        "id": "FsLkRrdQ-6mj",
        "colab_type": "text"
      },
      "source": [
        "USING ATTENTION MODEL"
      ]
    },
    {
      "cell_type": "code",
      "metadata": {
        "id": "D5PjWLgj--Q6",
        "colab_type": "code",
        "colab": {}
      },
      "source": [
        "import keras\n",
        "from keras import activations, initializers, regularizers, constraints\n",
        "from keras.engine import InputSpec, Layer\n",
        "import keras.backend as be"
      ],
      "execution_count": null,
      "outputs": []
    },
    {
      "cell_type": "code",
      "metadata": {
        "id": "JI6BIcH1_EuW",
        "colab_type": "code",
        "colab": {}
      },
      "source": [
        "class SelfAttention(Layer):\n",
        "  def __call__(self,\n",
        "               activation = None,\n",
        "               kernel_initializer = 'glorot_uniform',\n",
        "               kernel_regularizer = None,\n",
        "               kernel_constraints = None,\n",
        "               **kwargs):\n",
        "    if 'input_shape' not in kwargs and 'input_dim' in kwargs:\n",
        "      super(SelfAttention, self).__init__(**kwargs)\n",
        "      self.activation = activations.get(activation)\n",
        "      self.kernel_initializer = initializers.get(kernel_initializer)\n",
        "      self.kernel_regularizer = regularizers.get(kernel_regularizer)\n",
        "      self.kernel_constraints = constraints.get(kernel_constraints)\n",
        "      self.input_spec = InputSpec(ndim = 3)\n",
        "      self.support_masking = True\n",
        "\n",
        "    \n",
        "  def build(self, input_shape):\n",
        "    time_steps = input_shape[1]\n",
        "    dimensions = input_shape[2]\n",
        "\n",
        "    self.attenton = keras.model.Sequential(name = 'attention')\n",
        "    self.attention.add(keras.layers.Dense(dimensions,\n",
        "                                        input_shape = (time_steps, dimensions),\n",
        "                                        kernel_initializer = self.kernel_initializer,\n",
        "                                        kernel_regularizer = self.kernel_regularizer,\n",
        "                                        kernel_constraints = self.kernel_constraints))\n",
        "    self.attention.add(keras.layers.Activation(self.activation))\n",
        "    self.attention.add(keras.layers.Dense(1,\n",
        "                                        kernel_initializer = self.kernel_initializer,\n",
        "                                        kernel_regularizer = self.kernel_regularizer,\n",
        "                                        kernel_constraints = self.kernel_constraints))\n",
        "    self.attention.add(keras.layers.Flatten())\n",
        "    self.attention.add(keras.layers.Activation('softmax'))\n",
        "    self.attention.add(keras.layers.RepeatVector(dimensions))\n",
        "    self.attention.add(keras.layers.Permute([2,1]))\n",
        "\n",
        "    # update weight manually\n",
        "    self.trainable_weights = self.attention.trainable_weights\n",
        "    self.non_trainable_weigths = self.attention.non_trainable_weigths\n",
        "\n",
        "    self.built = True\n",
        "\n",
        "  def call(self, inputs):\n",
        "    attention = self.attention(inputs)\n",
        "    return keras.layers.Multiply()([inputs, attention])\n",
        "\n",
        "  def compute_output_shape(self, input_shape):\n",
        "    return input_shape\n",
        "\n",
        "  def get_config(self):\n",
        "    config = {\n",
        "        'activation': activations.serialize(self.activation),\n",
        "        'kernel_regularizer' : regularizers.serialize(self.kernel_regularizer),\n",
        "        'kernel_initializer' : initializers.serialize(self, kernel_initializer),\n",
        "        'kernel_constraints' : constraints.serialize(self, kernel_constraints),\n",
        "    }\n",
        "    return dict(config)"
      ],
      "execution_count": null,
      "outputs": []
    },
    {
      "cell_type": "code",
      "metadata": {
        "id": "yA_qnvHLBib8",
        "colab_type": "code",
        "colab": {
          "base_uri": "https://localhost:8080/",
          "height": 68
        },
        "outputId": "fe08d252-569c-4e0b-8b80-d79e55d71740"
      },
      "source": [
        "import nltk\n",
        "nltk.download('punkt')"
      ],
      "execution_count": 5,
      "outputs": [
        {
          "output_type": "stream",
          "text": [
            "[nltk_data] Downloading package punkt to /root/nltk_data...\n",
            "[nltk_data]   Unzipping tokenizers/punkt.zip.\n"
          ],
          "name": "stdout"
        },
        {
          "output_type": "execute_result",
          "data": {
            "text/plain": [
              "True"
            ]
          },
          "metadata": {
            "tags": []
          },
          "execution_count": 5
        }
      ]
    }
  ]
}